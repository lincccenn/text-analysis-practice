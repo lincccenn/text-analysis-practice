{
 "cells": [
  {
   "cell_type": "code",
   "execution_count": 6,
   "id": "4d63212f",
   "metadata": {},
   "outputs": [
    {
     "name": "stdout",
     "output_type": "stream",
     "text": [
      " * Serving Flask app '__main__'\n",
      " * Debug mode: off\n"
     ]
    },
    {
     "name": "stderr",
     "output_type": "stream",
     "text": [
      "\u001b[31m\u001b[1mWARNING: This is a development server. Do not use it in a production deployment. Use a production WSGI server instead.\u001b[0m\n",
      " * Running on http://127.0.0.1:5000\n",
      "\u001b[33mPress CTRL+C to quit\u001b[0m\n",
      "127.0.0.1 - - [06/Feb/2024 11:11:27] \"GET / HTTP/1.1\" 200 -\n",
      "127.0.0.1 - - [06/Feb/2024 11:11:27] \"\u001b[33mGET /favicon.ico HTTP/1.1\u001b[0m\" 404 -\n",
      "127.0.0.1 - - [06/Feb/2024 11:11:30] \"POST /result HTTP/1.1\" 200 -\n",
      "127.0.0.1 - - [06/Feb/2024 11:11:37] \"GET / HTTP/1.1\" 200 -\n",
      "127.0.0.1 - - [06/Feb/2024 11:11:40] \"POST /result HTTP/1.1\" 200 -\n"
     ]
    }
   ],
   "source": [
    "from textblob import TextBlob\n",
    "from flask import Flask\n",
    "from flask import render_template,request\n",
    "app = Flask(__name__)\n",
    "\n",
    "@app.route(\"/\",methods=[\"GET\", \"POST\"])\n",
    "def index():\n",
    "    return(render_template(\"index.html\"))\n",
    "\n",
    "@app.route(\"/result\", methods=[\"GET\", \"POST\"])\n",
    "def result():\n",
    "    text = request.form.get(\"text\")\n",
    "    result = TextBlob(text).sentiment\n",
    "    return(render_template(\"result.html\", result=result))\n",
    "if __name__==\"__main__\":\n",
    "    app.run()\n",
    "\n"
   ]
  },
  {
   "cell_type": "code",
   "execution_count": null,
   "id": "923dc7a9",
   "metadata": {},
   "outputs": [],
   "source": []
  },
  {
   "cell_type": "code",
   "execution_count": null,
   "id": "6e71058d",
   "metadata": {},
   "outputs": [],
   "source": []
  },
  {
   "cell_type": "code",
   "execution_count": null,
   "id": "915edad5",
   "metadata": {},
   "outputs": [],
   "source": []
  },
  {
   "cell_type": "code",
   "execution_count": null,
   "id": "137d0a11",
   "metadata": {},
   "outputs": [],
   "source": []
  },
  {
   "cell_type": "code",
   "execution_count": null,
   "id": "7890e898",
   "metadata": {},
   "outputs": [],
   "source": []
  },
  {
   "cell_type": "code",
   "execution_count": null,
   "id": "4a129a13",
   "metadata": {},
   "outputs": [],
   "source": []
  }
 ],
 "metadata": {
  "kernelspec": {
   "display_name": "Python 3 (ipykernel)",
   "language": "python",
   "name": "python3"
  },
  "language_info": {
   "codemirror_mode": {
    "name": "ipython",
    "version": 3
   },
   "file_extension": ".py",
   "mimetype": "text/x-python",
   "name": "python",
   "nbconvert_exporter": "python",
   "pygments_lexer": "ipython3",
   "version": "3.11.5"
  }
 },
 "nbformat": 4,
 "nbformat_minor": 5
}
